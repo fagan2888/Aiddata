{
  "nbformat": 4,
  "nbformat_minor": 0,
  "metadata": {
    "kernelspec": {
      "name": "python3",
      "language": "python",
      "display_name": "Python 3"
    },
    "language_info": {
      "name": "python",
      "version": "3.6.5",
      "mimetype": "text/x-python",
      "file_extension": ".py",
      "pygments_lexer": "ipython3",
      "codemirror_mode": {
        "name": "ipython",
        "version": 3
      },
      "nbconvert_exporter": "python"
    },
    "colab": {
      "name": "Task-3-Data-Analysis.ipynb",
      "provenance": [],
      "collapsed_sections": [],
      "include_colab_link": true
    }
  },
  "cells": [
    {
      "cell_type": "markdown",
      "metadata": {
        "id": "view-in-github",
        "colab_type": "text"
      },
      "source": [
        "<a href=\"https://colab.research.google.com/github/gandalf1819/Aiddata/blob/master/Task_3_Data_Analysis.ipynb\" target=\"_parent\"><img src=\"https://colab.research.google.com/assets/colab-badge.svg\" alt=\"Open In Colab\"/></a>"
      ]
    },
    {
      "cell_type": "markdown",
      "metadata": {
        "id": "BOIZIKXWottu",
        "colab_type": "text"
      },
      "source": [
        "### **Task 3 : Data Analysis on The Filtered 311 Data**"
      ]
    },
    {
      "cell_type": "markdown",
      "metadata": {
        "id": "7JsbKCzao12T",
        "colab_type": "text"
      },
      "source": [
        "**Team :**<br>\n",
        "\n",
        "\n",
        "*   Chinmay Wyawahare (cnw282)\n",
        "*   Vineet Viswakumar (vv913)\n",
        "*   HemanthTeja Yanambakkam (hy1713)\n",
        "\n"
      ]
    },
    {
      "cell_type": "markdown",
      "metadata": {
        "id": "G6J8Zmvvottw",
        "colab_type": "text"
      },
      "source": [
        "### Libraries"
      ]
    },
    {
      "cell_type": "code",
      "metadata": {
        "id": "nOZhY9OjqFFA",
        "colab_type": "code",
        "outputId": "253adaa0-0235-4203-9c09-e56a0107ca74",
        "colab": {
          "base_uri": "https://localhost:8080/",
          "height": 170
        }
      },
      "source": [
        "!pip install chart_studio"
      ],
      "execution_count": 0,
      "outputs": [
        {
          "output_type": "stream",
          "text": [
            "Requirement already satisfied: chart_studio in /usr/local/lib/python3.6/dist-packages (1.0.0)\n",
            "Requirement already satisfied: plotly in /usr/local/lib/python3.6/dist-packages (from chart_studio) (4.1.1)\n",
            "Requirement already satisfied: requests in /usr/local/lib/python3.6/dist-packages (from chart_studio) (2.21.0)\n",
            "Requirement already satisfied: six in /usr/local/lib/python3.6/dist-packages (from chart_studio) (1.12.0)\n",
            "Requirement already satisfied: retrying>=1.3.3 in /usr/local/lib/python3.6/dist-packages (from chart_studio) (1.3.3)\n",
            "Requirement already satisfied: urllib3<1.25,>=1.21.1 in /usr/local/lib/python3.6/dist-packages (from requests->chart_studio) (1.24.3)\n",
            "Requirement already satisfied: idna<2.9,>=2.5 in /usr/local/lib/python3.6/dist-packages (from requests->chart_studio) (2.8)\n",
            "Requirement already satisfied: certifi>=2017.4.17 in /usr/local/lib/python3.6/dist-packages (from requests->chart_studio) (2019.11.28)\n",
            "Requirement already satisfied: chardet<3.1.0,>=3.0.2 in /usr/local/lib/python3.6/dist-packages (from requests->chart_studio) (3.0.4)\n"
          ],
          "name": "stdout"
        }
      ]
    },
    {
      "cell_type": "code",
      "metadata": {
        "id": "RVmZJjPYqloK",
        "colab_type": "code",
        "outputId": "1fc165d4-c431-4deb-f286-a14b85f0e54e",
        "colab": {
          "base_uri": "https://localhost:8080/",
          "height": 293
        }
      },
      "source": [
        "!pip install plotly==4.3.0"
      ],
      "execution_count": 0,
      "outputs": [
        {
          "output_type": "stream",
          "text": [
            "Collecting plotly==4.3.0\n",
            "\u001b[?25l  Downloading https://files.pythonhosted.org/packages/e3/67/eb2b2be7a63a66548abea92447fc04d9abf363520f1af6145c5f033cd1b3/plotly-4.3.0-py2.py3-none-any.whl (7.3MB)\n",
            "\u001b[K     |████████████████████████████████| 7.3MB 4.9MB/s \n",
            "\u001b[?25hRequirement already satisfied: six in /usr/local/lib/python3.6/dist-packages (from plotly==4.3.0) (1.12.0)\n",
            "Requirement already satisfied: retrying>=1.3.3 in /usr/local/lib/python3.6/dist-packages (from plotly==4.3.0) (1.3.3)\n",
            "Installing collected packages: plotly\n",
            "  Found existing installation: plotly 4.1.1\n",
            "    Uninstalling plotly-4.1.1:\n",
            "      Successfully uninstalled plotly-4.1.1\n",
            "Successfully installed plotly-4.3.0\n"
          ],
          "name": "stdout"
        },
        {
          "output_type": "display_data",
          "data": {
            "application/vnd.colab-display-data+json": {
              "pip_warning": {
                "packages": [
                  "_plotly_future_",
                  "_plotly_utils",
                  "plotly"
                ]
              }
            }
          },
          "metadata": {
            "tags": []
          }
        }
      ]
    },
    {
      "cell_type": "code",
      "metadata": {
        "id": "t02ag3tRottx",
        "colab_type": "code",
        "colab": {}
      },
      "source": [
        "import modin.pandas as pd\n",
        "from sqlalchemy import create_engine # database connection\n",
        "import datetime as dt\n",
        "from IPython.display import display\n",
        "\n",
        "import chart_studio\n",
        "chart_studio.tools.set_credentials_file(username='chinmayw', api_key='nx1Wrz01bmlTSBj91sz5')\n",
        "\n",
        "import chart_studio.plotly as py # interactive graphing\n",
        "from plotly.graph_objs import Bar, Scatter, Marker, Layout\n",
        "import plotly.tools as tls"
      ],
      "execution_count": 0,
      "outputs": []
    },
    {
      "cell_type": "markdown",
      "metadata": {
        "id": "akLW-_Kbottz",
        "colab_type": "text"
      },
      "source": [
        "### Prepare the data"
      ]
    },
    {
      "cell_type": "code",
      "metadata": {
        "id": "veoMeE9tott0",
        "colab_type": "code",
        "outputId": "b005b60d-b78b-44dc-d52a-42afe776c70c",
        "colab": {}
      },
      "source": [
        "display(pd.read_csv('data/311_filtered1.csv',nrows=2).head())\n",
        "display(pd.read_csv('data/311_filtered1.csv',nrows=2).tail())"
      ],
      "execution_count": 0,
      "outputs": [
        {
          "output_type": "stream",
          "text": [
            "C:\\Program Files (x86)\\Microsoft Visual Studio\\Shared\\Anaconda3_64\\lib\\site-packages\\modin\\error_message.py:32: UserWarning:\n",
            "\n",
            "Parameters provided defaulting to pandas implementation.\n",
            "To request implementation, send an email to feature_requests@modin.org.\n",
            "\n"
          ],
          "name": "stderr"
        },
        {
          "output_type": "display_data",
          "data": {
            "text/html": [
              "<div>\n",
              "<style scoped>\n",
              "    .dataframe tbody tr th:only-of-type {\n",
              "        vertical-align: middle;\n",
              "    }\n",
              "\n",
              "    .dataframe tbody tr th {\n",
              "        vertical-align: top;\n",
              "    }\n",
              "\n",
              "    .dataframe thead th {\n",
              "        text-align: right;\n",
              "    }\n",
              "</style>\n",
              "<table border=\"1\" class=\"dataframe\">\n",
              "  <thead>\n",
              "    <tr style=\"text-align: right;\">\n",
              "      <th></th>\n",
              "      <th>Created Date</th>\n",
              "      <th>Closed Date</th>\n",
              "      <th>Agency</th>\n",
              "      <th>Complaint Type</th>\n",
              "      <th>Descriptor</th>\n",
              "      <th>Location Type</th>\n",
              "      <th>City</th>\n",
              "      <th>Latitude</th>\n",
              "      <th>Longitude</th>\n",
              "    </tr>\n",
              "  </thead>\n",
              "  <tbody>\n",
              "    <tr>\n",
              "      <th>0</th>\n",
              "      <td>07/29/2011 07:51:03 PM</td>\n",
              "      <td>08/29/2011 08:43:43 PM</td>\n",
              "      <td>DPR</td>\n",
              "      <td>Damaged Tree</td>\n",
              "      <td>Branch or Limb Has Fallen Down</td>\n",
              "      <td>Street</td>\n",
              "      <td>JAMAICA</td>\n",
              "      <td>40.720235</td>\n",
              "      <td>-73.789196</td>\n",
              "    </tr>\n",
              "    <tr>\n",
              "      <th>1</th>\n",
              "      <td>07/29/2011 08:34:33 PM</td>\n",
              "      <td>07/30/2011 05:38:24 AM</td>\n",
              "      <td>DOT</td>\n",
              "      <td>Broken Muni Meter</td>\n",
              "      <td>No Receipt</td>\n",
              "      <td>Street</td>\n",
              "      <td>NEW YORK</td>\n",
              "      <td>40.759540</td>\n",
              "      <td>-73.972245</td>\n",
              "    </tr>\n",
              "  </tbody>\n",
              "</table>\n",
              "</div>"
            ],
            "text/plain": [
              "             Created Date             Closed Date Agency     Complaint Type  \\\n",
              "0  07/29/2011 07:51:03 PM  08/29/2011 08:43:43 PM    DPR       Damaged Tree   \n",
              "1  07/29/2011 08:34:33 PM  07/30/2011 05:38:24 AM    DOT  Broken Muni Meter   \n",
              "\n",
              "                       Descriptor Location Type      City   Latitude  \\\n",
              "0  Branch or Limb Has Fallen Down        Street   JAMAICA  40.720235   \n",
              "1                      No Receipt        Street  NEW YORK  40.759540   \n",
              "\n",
              "   Longitude  \n",
              "0 -73.789196  \n",
              "1 -73.972245  "
            ]
          },
          "metadata": {
            "tags": []
          }
        },
        {
          "output_type": "stream",
          "text": [
            "C:\\Program Files (x86)\\Microsoft Visual Studio\\Shared\\Anaconda3_64\\lib\\site-packages\\modin\\error_message.py:32: UserWarning:\n",
            "\n",
            "Parameters provided defaulting to pandas implementation.\n",
            "\n"
          ],
          "name": "stderr"
        },
        {
          "output_type": "display_data",
          "data": {
            "text/html": [
              "<div>\n",
              "<style scoped>\n",
              "    .dataframe tbody tr th:only-of-type {\n",
              "        vertical-align: middle;\n",
              "    }\n",
              "\n",
              "    .dataframe tbody tr th {\n",
              "        vertical-align: top;\n",
              "    }\n",
              "\n",
              "    .dataframe thead th {\n",
              "        text-align: right;\n",
              "    }\n",
              "</style>\n",
              "<table border=\"1\" class=\"dataframe\">\n",
              "  <thead>\n",
              "    <tr style=\"text-align: right;\">\n",
              "      <th></th>\n",
              "      <th>Created Date</th>\n",
              "      <th>Closed Date</th>\n",
              "      <th>Agency</th>\n",
              "      <th>Complaint Type</th>\n",
              "      <th>Descriptor</th>\n",
              "      <th>Location Type</th>\n",
              "      <th>City</th>\n",
              "      <th>Latitude</th>\n",
              "      <th>Longitude</th>\n",
              "    </tr>\n",
              "  </thead>\n",
              "  <tbody>\n",
              "    <tr>\n",
              "      <th>0</th>\n",
              "      <td>07/29/2011 07:51:03 PM</td>\n",
              "      <td>08/29/2011 08:43:43 PM</td>\n",
              "      <td>DPR</td>\n",
              "      <td>Damaged Tree</td>\n",
              "      <td>Branch or Limb Has Fallen Down</td>\n",
              "      <td>Street</td>\n",
              "      <td>JAMAICA</td>\n",
              "      <td>40.720235</td>\n",
              "      <td>-73.789196</td>\n",
              "    </tr>\n",
              "    <tr>\n",
              "      <th>1</th>\n",
              "      <td>07/29/2011 08:34:33 PM</td>\n",
              "      <td>07/30/2011 05:38:24 AM</td>\n",
              "      <td>DOT</td>\n",
              "      <td>Broken Muni Meter</td>\n",
              "      <td>No Receipt</td>\n",
              "      <td>Street</td>\n",
              "      <td>NEW YORK</td>\n",
              "      <td>40.759540</td>\n",
              "      <td>-73.972245</td>\n",
              "    </tr>\n",
              "  </tbody>\n",
              "</table>\n",
              "</div>"
            ],
            "text/plain": [
              "             Created Date             Closed Date Agency     Complaint Type  \\\n",
              "0  07/29/2011 07:51:03 PM  08/29/2011 08:43:43 PM    DPR       Damaged Tree   \n",
              "1  07/29/2011 08:34:33 PM  07/30/2011 05:38:24 AM    DOT  Broken Muni Meter   \n",
              "\n",
              "                       Descriptor Location Type      City   Latitude  \\\n",
              "0  Branch or Limb Has Fallen Down        Street   JAMAICA  40.720235   \n",
              "1                      No Receipt        Street  NEW YORK  40.759540   \n",
              "\n",
              "   Longitude  \n",
              "0 -73.789196  \n",
              "1 -73.972245  "
            ]
          },
          "metadata": {
            "tags": []
          }
        }
      ]
    },
    {
      "cell_type": "code",
      "metadata": {
        "id": "Vn-qf3x3ott2",
        "colab_type": "code",
        "outputId": "1c8b615a-f029-48ef-96d8-11c5ed5f1f77",
        "colab": {}
      },
      "source": [
        "disk_engine = create_engine('sqlite:///311.db')\n",
        "start = dt.datetime.now()\n",
        "chunksize = 50000\n",
        "j = 0\n",
        "index_start = 1\n",
        "\n",
        "for df in pd.read_csv('data/311_filtered1.csv', chunksize=chunksize, iterator=True, encoding='utf-8'):\n",
        "    \n",
        "    df = df.rename(columns={c: c.replace(' ', '') for c in df.columns}) # Remove spaces from columns\n",
        "\n",
        "    df['CreatedDate'] = pd.to_datetime(df['CreatedDate']) # Convert to datetimes\n",
        "    df['ClosedDate'] = pd.to_datetime(df['ClosedDate'])\n",
        "\n",
        "    df.index += index_start\n",
        "\n",
        "    # Remove the un-interesting columns\n",
        "    columns = ['Agency', 'CreatedDate', 'ClosedDate', 'ComplaintType', 'Descriptor',\n",
        "               'CreatedDate', 'ClosedDate', 'TimeToCompletion',\n",
        "               'City']\n",
        "\n",
        "    for c in df.columns:\n",
        "        if c not in columns:\n",
        "            df = df.drop(c, axis=1)    \n",
        "\n",
        "    \n",
        "    j+=1\n",
        "    print ('{} seconds: completed {} rows'.format((dt.datetime.now() - start).seconds, j*chunksize))\n",
        "\n",
        "    df.to_sql('data', disk_engine, if_exists='append')\n",
        "    index_start = df.index[-1] + 1"
      ],
      "execution_count": 0,
      "outputs": [
        {
          "output_type": "stream",
          "text": [
            "C:\\Program Files (x86)\\Microsoft Visual Studio\\Shared\\Anaconda3_64\\lib\\site-packages\\modin\\error_message.py:32: UserWarning:\n",
            "\n",
            "Parameters provided defaulting to pandas implementation.\n",
            "\n",
            "C:\\Program Files (x86)\\Microsoft Visual Studio\\Shared\\Anaconda3_64\\lib\\site-packages\\modin\\pandas\\datetimes.py:56: FutureWarning:\n",
            "\n",
            "the 'box' keyword is deprecated and will be removed in a future version. Please take steps to stop the use of 'box'\n",
            "\n"
          ],
          "name": "stderr"
        },
        {
          "output_type": "stream",
          "text": [
            "14 seconds: completed 50000 rows\n"
          ],
          "name": "stdout"
        },
        {
          "output_type": "stream",
          "text": [
            "C:\\Program Files (x86)\\Microsoft Visual Studio\\Shared\\Anaconda3_64\\lib\\site-packages\\modin\\error_message.py:32: UserWarning:\n",
            "\n",
            "`to_sql` defaulting to pandas implementation.\n",
            "\n"
          ],
          "name": "stderr"
        },
        {
          "output_type": "stream",
          "text": [
            "29 seconds: completed 100000 rows\n",
            "44 seconds: completed 150000 rows\n",
            "58 seconds: completed 200000 rows\n",
            "73 seconds: completed 250000 rows\n",
            "87 seconds: completed 300000 rows\n",
            "102 seconds: completed 350000 rows\n",
            "116 seconds: completed 400000 rows\n",
            "130 seconds: completed 450000 rows\n",
            "144 seconds: completed 500000 rows\n",
            "158 seconds: completed 550000 rows\n",
            "172 seconds: completed 600000 rows\n",
            "186 seconds: completed 650000 rows\n",
            "200 seconds: completed 700000 rows\n",
            "214 seconds: completed 750000 rows\n",
            "228 seconds: completed 800000 rows\n",
            "242 seconds: completed 850000 rows\n",
            "255 seconds: completed 900000 rows\n",
            "269 seconds: completed 950000 rows\n",
            "283 seconds: completed 1000000 rows\n",
            "297 seconds: completed 1050000 rows\n",
            "311 seconds: completed 1100000 rows\n",
            "325 seconds: completed 1150000 rows\n",
            "339 seconds: completed 1200000 rows\n",
            "353 seconds: completed 1250000 rows\n",
            "366 seconds: completed 1300000 rows\n",
            "380 seconds: completed 1350000 rows\n",
            "394 seconds: completed 1400000 rows\n",
            "408 seconds: completed 1450000 rows\n",
            "422 seconds: completed 1500000 rows\n",
            "436 seconds: completed 1550000 rows\n",
            "450 seconds: completed 1600000 rows\n",
            "464 seconds: completed 1650000 rows\n",
            "478 seconds: completed 1700000 rows\n",
            "492 seconds: completed 1750000 rows\n",
            "506 seconds: completed 1800000 rows\n",
            "520 seconds: completed 1850000 rows\n",
            "534 seconds: completed 1900000 rows\n",
            "548 seconds: completed 1950000 rows\n",
            "561 seconds: completed 2000000 rows\n",
            "575 seconds: completed 2050000 rows\n",
            "589 seconds: completed 2100000 rows\n",
            "603 seconds: completed 2150000 rows\n",
            "617 seconds: completed 2200000 rows\n",
            "631 seconds: completed 2250000 rows\n",
            "645 seconds: completed 2300000 rows\n",
            "659 seconds: completed 2350000 rows\n",
            "673 seconds: completed 2400000 rows\n",
            "687 seconds: completed 2450000 rows\n",
            "701 seconds: completed 2500000 rows\n",
            "715 seconds: completed 2550000 rows\n",
            "729 seconds: completed 2600000 rows\n",
            "742 seconds: completed 2650000 rows\n",
            "756 seconds: completed 2700000 rows\n",
            "770 seconds: completed 2750000 rows\n",
            "784 seconds: completed 2800000 rows\n",
            "798 seconds: completed 2850000 rows\n",
            "812 seconds: completed 2900000 rows\n",
            "826 seconds: completed 2950000 rows\n",
            "840 seconds: completed 3000000 rows\n",
            "854 seconds: completed 3050000 rows\n",
            "868 seconds: completed 3100000 rows\n",
            "882 seconds: completed 3150000 rows\n",
            "896 seconds: completed 3200000 rows\n",
            "910 seconds: completed 3250000 rows\n",
            "924 seconds: completed 3300000 rows\n",
            "938 seconds: completed 3350000 rows\n",
            "951 seconds: completed 3400000 rows\n",
            "965 seconds: completed 3450000 rows\n",
            "979 seconds: completed 3500000 rows\n",
            "993 seconds: completed 3550000 rows\n",
            "1007 seconds: completed 3600000 rows\n",
            "1021 seconds: completed 3650000 rows\n",
            "1035 seconds: completed 3700000 rows\n",
            "1049 seconds: completed 3750000 rows\n",
            "1063 seconds: completed 3800000 rows\n",
            "1077 seconds: completed 3850000 rows\n",
            "1091 seconds: completed 3900000 rows\n",
            "1105 seconds: completed 3950000 rows\n",
            "1119 seconds: completed 4000000 rows\n",
            "1133 seconds: completed 4050000 rows\n",
            "1147 seconds: completed 4100000 rows\n",
            "1161 seconds: completed 4150000 rows\n",
            "1175 seconds: completed 4200000 rows\n",
            "1189 seconds: completed 4250000 rows\n",
            "1203 seconds: completed 4300000 rows\n",
            "1217 seconds: completed 4350000 rows\n",
            "1231 seconds: completed 4400000 rows\n",
            "1245 seconds: completed 4450000 rows\n",
            "1251 seconds: completed 4500000 rows\n",
            "1257 seconds: completed 4550000 rows\n",
            "1263 seconds: completed 4600000 rows\n",
            "1269 seconds: completed 4650000 rows\n",
            "1275 seconds: completed 4700000 rows\n",
            "1281 seconds: completed 4750000 rows\n",
            "1288 seconds: completed 4800000 rows\n",
            "1294 seconds: completed 4850000 rows\n",
            "1300 seconds: completed 4900000 rows\n",
            "1306 seconds: completed 4950000 rows\n",
            "1313 seconds: completed 5000000 rows\n",
            "1319 seconds: completed 5050000 rows\n",
            "1324 seconds: completed 5100000 rows\n",
            "1330 seconds: completed 5150000 rows\n",
            "1336 seconds: completed 5200000 rows\n",
            "1342 seconds: completed 5250000 rows\n",
            "1348 seconds: completed 5300000 rows\n",
            "1354 seconds: completed 5350000 rows\n",
            "1361 seconds: completed 5400000 rows\n",
            "1367 seconds: completed 5450000 rows\n",
            "1374 seconds: completed 5500000 rows\n",
            "1380 seconds: completed 5550000 rows\n",
            "1387 seconds: completed 5600000 rows\n",
            "1393 seconds: completed 5650000 rows\n",
            "1399 seconds: completed 5700000 rows\n",
            "1405 seconds: completed 5750000 rows\n",
            "1411 seconds: completed 5800000 rows\n",
            "1417 seconds: completed 5850000 rows\n",
            "1423 seconds: completed 5900000 rows\n",
            "1429 seconds: completed 5950000 rows\n",
            "1435 seconds: completed 6000000 rows\n",
            "1441 seconds: completed 6050000 rows\n",
            "1448 seconds: completed 6100000 rows\n",
            "1454 seconds: completed 6150000 rows\n",
            "1461 seconds: completed 6200000 rows\n",
            "1467 seconds: completed 6250000 rows\n",
            "1474 seconds: completed 6300000 rows\n",
            "1480 seconds: completed 6350000 rows\n",
            "1487 seconds: completed 6400000 rows\n",
            "1493 seconds: completed 6450000 rows\n",
            "1500 seconds: completed 6500000 rows\n",
            "1506 seconds: completed 6550000 rows\n",
            "1512 seconds: completed 6600000 rows\n",
            "1518 seconds: completed 6650000 rows\n",
            "1523 seconds: completed 6700000 rows\n",
            "1531 seconds: completed 6750000 rows\n",
            "1537 seconds: completed 6800000 rows\n",
            "1544 seconds: completed 6850000 rows\n",
            "1552 seconds: completed 6900000 rows\n",
            "1562 seconds: completed 6950000 rows\n",
            "1570 seconds: completed 7000000 rows\n",
            "1576 seconds: completed 7050000 rows\n",
            "1584 seconds: completed 7100000 rows\n",
            "1591 seconds: completed 7150000 rows\n",
            "1601 seconds: completed 7200000 rows\n",
            "1610 seconds: completed 7250000 rows\n",
            "1617 seconds: completed 7300000 rows\n",
            "1623 seconds: completed 7350000 rows\n",
            "1630 seconds: completed 7400000 rows\n",
            "1637 seconds: completed 7450000 rows\n",
            "1643 seconds: completed 7500000 rows\n",
            "1650 seconds: completed 7550000 rows\n",
            "1656 seconds: completed 7600000 rows\n",
            "1662 seconds: completed 7650000 rows\n",
            "1671 seconds: completed 7700000 rows\n",
            "1680 seconds: completed 7750000 rows\n",
            "1688 seconds: completed 7800000 rows\n",
            "1695 seconds: completed 7850000 rows\n",
            "1702 seconds: completed 7900000 rows\n",
            "1708 seconds: completed 7950000 rows\n",
            "1715 seconds: completed 8000000 rows\n",
            "1722 seconds: completed 8050000 rows\n",
            "1729 seconds: completed 8100000 rows\n",
            "1735 seconds: completed 8150000 rows\n",
            "1742 seconds: completed 8200000 rows\n",
            "1748 seconds: completed 8250000 rows\n",
            "1754 seconds: completed 8300000 rows\n",
            "1760 seconds: completed 8350000 rows\n",
            "1766 seconds: completed 8400000 rows\n",
            "1772 seconds: completed 8450000 rows\n",
            "1779 seconds: completed 8500000 rows\n",
            "1785 seconds: completed 8550000 rows\n",
            "1791 seconds: completed 8600000 rows\n",
            "1798 seconds: completed 8650000 rows\n",
            "1804 seconds: completed 8700000 rows\n",
            "1811 seconds: completed 8750000 rows\n",
            "1820 seconds: completed 8800000 rows\n",
            "1831 seconds: completed 8850000 rows\n",
            "1842 seconds: completed 8900000 rows\n",
            "1853 seconds: completed 8950000 rows\n",
            "1864 seconds: completed 9000000 rows\n",
            "1876 seconds: completed 9050000 rows\n",
            "1890 seconds: completed 9100000 rows\n",
            "1904 seconds: completed 9150000 rows\n",
            "1915 seconds: completed 9200000 rows\n",
            "1929 seconds: completed 9250000 rows\n",
            "1943 seconds: completed 9300000 rows\n",
            "1957 seconds: completed 9350000 rows\n",
            "1971 seconds: completed 9400000 rows\n",
            "1985 seconds: completed 9450000 rows\n",
            "2000 seconds: completed 9500000 rows\n",
            "2014 seconds: completed 9550000 rows\n",
            "2027 seconds: completed 9600000 rows\n",
            "2042 seconds: completed 9650000 rows\n",
            "2056 seconds: completed 9700000 rows\n",
            "2070 seconds: completed 9750000 rows\n",
            "2084 seconds: completed 9800000 rows\n",
            "2098 seconds: completed 9850000 rows\n",
            "2112 seconds: completed 9900000 rows\n",
            "2126 seconds: completed 9950000 rows\n",
            "2140 seconds: completed 10000000 rows\n",
            "2154 seconds: completed 10050000 rows\n",
            "2169 seconds: completed 10100000 rows\n",
            "2183 seconds: completed 10150000 rows\n",
            "2197 seconds: completed 10200000 rows\n",
            "2211 seconds: completed 10250000 rows\n",
            "2225 seconds: completed 10300000 rows\n",
            "2239 seconds: completed 10350000 rows\n",
            "2253 seconds: completed 10400000 rows\n",
            "2267 seconds: completed 10450000 rows\n",
            "2282 seconds: completed 10500000 rows\n",
            "2296 seconds: completed 10550000 rows\n",
            "2310 seconds: completed 10600000 rows\n",
            "2324 seconds: completed 10650000 rows\n",
            "2338 seconds: completed 10700000 rows\n",
            "2352 seconds: completed 10750000 rows\n",
            "2366 seconds: completed 10800000 rows\n",
            "2380 seconds: completed 10850000 rows\n",
            "2395 seconds: completed 10900000 rows\n",
            "2409 seconds: completed 10950000 rows\n",
            "2423 seconds: completed 11000000 rows\n",
            "2434 seconds: completed 11050000 rows\n",
            "2445 seconds: completed 11100000 rows\n",
            "2459 seconds: completed 11150000 rows\n",
            "2470 seconds: completed 11200000 rows\n",
            "2481 seconds: completed 11250000 rows\n"
          ],
          "name": "stdout"
        },
        {
          "output_type": "stream",
          "text": [
            "2492 seconds: completed 11300000 rows\n",
            "2503 seconds: completed 11350000 rows\n",
            "2514 seconds: completed 11400000 rows\n",
            "2525 seconds: completed 11450000 rows\n",
            "2540 seconds: completed 11500000 rows\n",
            "2554 seconds: completed 11550000 rows\n",
            "2568 seconds: completed 11600000 rows\n",
            "2582 seconds: completed 11650000 rows\n",
            "2596 seconds: completed 11700000 rows\n",
            "2610 seconds: completed 11750000 rows\n",
            "2624 seconds: completed 11800000 rows\n",
            "2638 seconds: completed 11850000 rows\n",
            "2649 seconds: completed 11900000 rows\n",
            "2660 seconds: completed 11950000 rows\n",
            "2671 seconds: completed 12000000 rows\n",
            "2682 seconds: completed 12050000 rows\n",
            "2693 seconds: completed 12100000 rows\n",
            "2704 seconds: completed 12150000 rows\n",
            "2715 seconds: completed 12200000 rows\n",
            "2726 seconds: completed 12250000 rows\n",
            "2737 seconds: completed 12300000 rows\n",
            "2748 seconds: completed 12350000 rows\n",
            "2759 seconds: completed 12400000 rows\n",
            "2770 seconds: completed 12450000 rows\n",
            "2781 seconds: completed 12500000 rows\n",
            "2792 seconds: completed 12550000 rows\n",
            "2803 seconds: completed 12600000 rows\n",
            "2813 seconds: completed 12650000 rows\n",
            "2824 seconds: completed 12700000 rows\n",
            "2835 seconds: completed 12750000 rows\n",
            "2846 seconds: completed 12800000 rows\n",
            "2857 seconds: completed 12850000 rows\n",
            "2868 seconds: completed 12900000 rows\n",
            "2879 seconds: completed 12950000 rows\n",
            "2890 seconds: completed 13000000 rows\n",
            "2901 seconds: completed 13050000 rows\n",
            "2912 seconds: completed 13100000 rows\n",
            "2923 seconds: completed 13150000 rows\n",
            "2933 seconds: completed 13200000 rows\n",
            "2945 seconds: completed 13250000 rows\n",
            "2959 seconds: completed 13300000 rows\n",
            "2973 seconds: completed 13350000 rows\n",
            "2988 seconds: completed 13400000 rows\n",
            "3002 seconds: completed 13450000 rows\n",
            "3016 seconds: completed 13500000 rows\n",
            "3030 seconds: completed 13550000 rows\n",
            "3044 seconds: completed 13600000 rows\n",
            "3059 seconds: completed 13650000 rows\n",
            "3073 seconds: completed 13700000 rows\n",
            "3087 seconds: completed 13750000 rows\n",
            "3101 seconds: completed 13800000 rows\n",
            "3115 seconds: completed 13850000 rows\n",
            "3129 seconds: completed 13900000 rows\n",
            "3144 seconds: completed 13950000 rows\n",
            "3158 seconds: completed 14000000 rows\n",
            "3172 seconds: completed 14050000 rows\n",
            "3186 seconds: completed 14100000 rows\n",
            "3200 seconds: completed 14150000 rows\n",
            "3213 seconds: completed 14200000 rows\n",
            "3228 seconds: completed 14250000 rows\n",
            "3242 seconds: completed 14300000 rows\n",
            "3256 seconds: completed 14350000 rows\n",
            "3270 seconds: completed 14400000 rows\n",
            "3284 seconds: completed 14450000 rows\n",
            "3298 seconds: completed 14500000 rows\n",
            "3313 seconds: completed 14550000 rows\n",
            "3327 seconds: completed 14600000 rows\n",
            "3341 seconds: completed 14650000 rows\n",
            "3355 seconds: completed 14700000 rows\n",
            "3369 seconds: completed 14750000 rows\n",
            "3383 seconds: completed 14800000 rows\n",
            "3391 seconds: completed 14850000 rows\n"
          ],
          "name": "stdout"
        }
      ]
    },
    {
      "cell_type": "code",
      "metadata": {
        "id": "p4fZ10bwott4",
        "colab_type": "code",
        "outputId": "7bc9ced6-d4a0-4dfd-9800-f7dfbb2e0a27",
        "colab": {}
      },
      "source": [
        "df = pd.read_sql_query('SELECT * FROM data LIMIT 3', disk_engine)\n",
        "df.head()"
      ],
      "execution_count": 0,
      "outputs": [
        {
          "output_type": "stream",
          "text": [
            "C:\\Program Files (x86)\\Microsoft Visual Studio\\Shared\\Anaconda3_64\\lib\\site-packages\\modin\\error_message.py:32: UserWarning:\n",
            "\n",
            "`read_sql_query` defaulting to pandas implementation.\n",
            "\n"
          ],
          "name": "stderr"
        },
        {
          "output_type": "execute_result",
          "data": {
            "text/html": [
              "<div>\n",
              "<style scoped>\n",
              "    .dataframe tbody tr th:only-of-type {\n",
              "        vertical-align: middle;\n",
              "    }\n",
              "\n",
              "    .dataframe tbody tr th {\n",
              "        vertical-align: top;\n",
              "    }\n",
              "\n",
              "    .dataframe thead th {\n",
              "        text-align: right;\n",
              "    }\n",
              "</style>\n",
              "<table border=\"1\" class=\"dataframe\">\n",
              "  <thead>\n",
              "    <tr style=\"text-align: right;\">\n",
              "      <th></th>\n",
              "      <th>index</th>\n",
              "      <th>CreatedDate</th>\n",
              "      <th>ClosedDate</th>\n",
              "      <th>Agency</th>\n",
              "      <th>ComplaintType</th>\n",
              "      <th>Descriptor</th>\n",
              "      <th>City</th>\n",
              "    </tr>\n",
              "  </thead>\n",
              "  <tbody>\n",
              "    <tr>\n",
              "      <th>0</th>\n",
              "      <td>1</td>\n",
              "      <td>2011-07-29 19:51:03.000000</td>\n",
              "      <td>2011-08-29 20:43:43.000000</td>\n",
              "      <td>DPR</td>\n",
              "      <td>Damaged Tree</td>\n",
              "      <td>Branch or Limb Has Fallen Down</td>\n",
              "      <td>JAMAICA</td>\n",
              "    </tr>\n",
              "    <tr>\n",
              "      <th>1</th>\n",
              "      <td>2</td>\n",
              "      <td>2011-07-29 20:34:33.000000</td>\n",
              "      <td>2011-07-30 05:38:24.000000</td>\n",
              "      <td>DOT</td>\n",
              "      <td>Broken Muni Meter</td>\n",
              "      <td>No Receipt</td>\n",
              "      <td>NEW YORK</td>\n",
              "    </tr>\n",
              "    <tr>\n",
              "      <th>2</th>\n",
              "      <td>3</td>\n",
              "      <td>2011-07-29 22:20:18.000000</td>\n",
              "      <td>2011-07-29 23:17:35.000000</td>\n",
              "      <td>NYPD</td>\n",
              "      <td>Noise - Residential</td>\n",
              "      <td>Loud Talking</td>\n",
              "      <td>BROOKLYN</td>\n",
              "    </tr>\n",
              "  </tbody>\n",
              "</table>\n",
              "</div>"
            ],
            "text/plain": [
              "   index                 CreatedDate                  ClosedDate Agency  \\\n",
              "0      1  2011-07-29 19:51:03.000000  2011-08-29 20:43:43.000000    DPR   \n",
              "1      2  2011-07-29 20:34:33.000000  2011-07-30 05:38:24.000000    DOT   \n",
              "2      3  2011-07-29 22:20:18.000000  2011-07-29 23:17:35.000000   NYPD   \n",
              "\n",
              "         ComplaintType                      Descriptor      City  \n",
              "0         Damaged Tree  Branch or Limb Has Fallen Down   JAMAICA  \n",
              "1    Broken Muni Meter                      No Receipt  NEW YORK  \n",
              "2  Noise - Residential                    Loud Talking  BROOKLYN  "
            ]
          },
          "metadata": {
            "tags": []
          },
          "execution_count": 4
        }
      ]
    },
    {
      "cell_type": "code",
      "metadata": {
        "id": "g_Ao9GqAott5",
        "colab_type": "code",
        "outputId": "c3b70831-d175-4469-87ea-c7a449debebd",
        "colab": {}
      },
      "source": [
        "df = pd.read_sql_query('SELECT Agency, Descriptor FROM data LIMIT 3', disk_engine)\n",
        "df.head()"
      ],
      "execution_count": 0,
      "outputs": [
        {
          "output_type": "stream",
          "text": [
            "C:\\Program Files (x86)\\Microsoft Visual Studio\\Shared\\Anaconda3_64\\lib\\site-packages\\modin\\error_message.py:32: UserWarning:\n",
            "\n",
            "`read_sql_query` defaulting to pandas implementation.\n",
            "\n"
          ],
          "name": "stderr"
        },
        {
          "output_type": "execute_result",
          "data": {
            "text/html": [
              "<div>\n",
              "<style scoped>\n",
              "    .dataframe tbody tr th:only-of-type {\n",
              "        vertical-align: middle;\n",
              "    }\n",
              "\n",
              "    .dataframe tbody tr th {\n",
              "        vertical-align: top;\n",
              "    }\n",
              "\n",
              "    .dataframe thead th {\n",
              "        text-align: right;\n",
              "    }\n",
              "</style>\n",
              "<table border=\"1\" class=\"dataframe\">\n",
              "  <thead>\n",
              "    <tr style=\"text-align: right;\">\n",
              "      <th></th>\n",
              "      <th>Agency</th>\n",
              "      <th>Descriptor</th>\n",
              "    </tr>\n",
              "  </thead>\n",
              "  <tbody>\n",
              "    <tr>\n",
              "      <th>0</th>\n",
              "      <td>DPR</td>\n",
              "      <td>Branch or Limb Has Fallen Down</td>\n",
              "    </tr>\n",
              "    <tr>\n",
              "      <th>1</th>\n",
              "      <td>DOT</td>\n",
              "      <td>No Receipt</td>\n",
              "    </tr>\n",
              "    <tr>\n",
              "      <th>2</th>\n",
              "      <td>NYPD</td>\n",
              "      <td>Loud Talking</td>\n",
              "    </tr>\n",
              "  </tbody>\n",
              "</table>\n",
              "</div>"
            ],
            "text/plain": [
              "  Agency                      Descriptor\n",
              "0    DPR  Branch or Limb Has Fallen Down\n",
              "1    DOT                      No Receipt\n",
              "2   NYPD                    Loud Talking"
            ]
          },
          "metadata": {
            "tags": []
          },
          "execution_count": 5
        }
      ]
    },
    {
      "cell_type": "code",
      "metadata": {
        "id": "aEIJEmwuott7",
        "colab_type": "code",
        "outputId": "877bf03f-cad2-467f-ce2b-3a74ab71d9b6",
        "colab": {}
      },
      "source": [
        "df = pd.read_sql_query('SELECT Agency, Descriptor FROM data LIMIT 3', disk_engine)\n",
        "df.head()"
      ],
      "execution_count": 0,
      "outputs": [
        {
          "output_type": "stream",
          "text": [
            "C:\\Program Files (x86)\\Microsoft Visual Studio\\Shared\\Anaconda3_64\\lib\\site-packages\\modin\\error_message.py:32: UserWarning:\n",
            "\n",
            "`read_sql_query` defaulting to pandas implementation.\n",
            "\n"
          ],
          "name": "stderr"
        },
        {
          "output_type": "execute_result",
          "data": {
            "text/html": [
              "<div>\n",
              "<style scoped>\n",
              "    .dataframe tbody tr th:only-of-type {\n",
              "        vertical-align: middle;\n",
              "    }\n",
              "\n",
              "    .dataframe tbody tr th {\n",
              "        vertical-align: top;\n",
              "    }\n",
              "\n",
              "    .dataframe thead th {\n",
              "        text-align: right;\n",
              "    }\n",
              "</style>\n",
              "<table border=\"1\" class=\"dataframe\">\n",
              "  <thead>\n",
              "    <tr style=\"text-align: right;\">\n",
              "      <th></th>\n",
              "      <th>Agency</th>\n",
              "      <th>Descriptor</th>\n",
              "    </tr>\n",
              "  </thead>\n",
              "  <tbody>\n",
              "    <tr>\n",
              "      <th>0</th>\n",
              "      <td>DPR</td>\n",
              "      <td>Branch or Limb Has Fallen Down</td>\n",
              "    </tr>\n",
              "    <tr>\n",
              "      <th>1</th>\n",
              "      <td>DOT</td>\n",
              "      <td>No Receipt</td>\n",
              "    </tr>\n",
              "    <tr>\n",
              "      <th>2</th>\n",
              "      <td>NYPD</td>\n",
              "      <td>Loud Talking</td>\n",
              "    </tr>\n",
              "  </tbody>\n",
              "</table>\n",
              "</div>"
            ],
            "text/plain": [
              "  Agency                      Descriptor\n",
              "0    DPR  Branch or Limb Has Fallen Down\n",
              "1    DOT                      No Receipt\n",
              "2   NYPD                    Loud Talking"
            ]
          },
          "metadata": {
            "tags": []
          },
          "execution_count": 6
        }
      ]
    },
    {
      "cell_type": "code",
      "metadata": {
        "id": "GdLexOg0ott9",
        "colab_type": "code",
        "outputId": "3d78ddd6-401a-4726-da1d-43b816073029",
        "colab": {}
      },
      "source": [
        "df = pd.read_sql_query('SELECT ComplaintType, Descriptor, Agency '\n",
        "                       'FROM data '\n",
        "                       'LIMIT 10', disk_engine)\n",
        "df"
      ],
      "execution_count": 0,
      "outputs": [
        {
          "output_type": "stream",
          "text": [
            "C:\\Program Files (x86)\\Microsoft Visual Studio\\Shared\\Anaconda3_64\\lib\\site-packages\\modin\\error_message.py:32: UserWarning:\n",
            "\n",
            "`read_sql_query` defaulting to pandas implementation.\n",
            "\n"
          ],
          "name": "stderr"
        },
        {
          "output_type": "execute_result",
          "data": {
            "text/html": [
              "<div>\n",
              "<style scoped>\n",
              "    .dataframe tbody tr th:only-of-type {\n",
              "        vertical-align: middle;\n",
              "    }\n",
              "\n",
              "    .dataframe tbody tr th {\n",
              "        vertical-align: top;\n",
              "    }\n",
              "\n",
              "    .dataframe thead th {\n",
              "        text-align: right;\n",
              "    }\n",
              "</style>\n",
              "<table border=\"1\" class=\"dataframe\">\n",
              "  <thead>\n",
              "    <tr style=\"text-align: right;\">\n",
              "      <th></th>\n",
              "      <th>ComplaintType</th>\n",
              "      <th>Descriptor</th>\n",
              "      <th>Agency</th>\n",
              "    </tr>\n",
              "  </thead>\n",
              "  <tbody>\n",
              "    <tr>\n",
              "      <th>0</th>\n",
              "      <td>Damaged Tree</td>\n",
              "      <td>Branch or Limb Has Fallen Down</td>\n",
              "      <td>DPR</td>\n",
              "    </tr>\n",
              "    <tr>\n",
              "      <th>1</th>\n",
              "      <td>Broken Muni Meter</td>\n",
              "      <td>No Receipt</td>\n",
              "      <td>DOT</td>\n",
              "    </tr>\n",
              "    <tr>\n",
              "      <th>2</th>\n",
              "      <td>Noise - Residential</td>\n",
              "      <td>Loud Talking</td>\n",
              "      <td>NYPD</td>\n",
              "    </tr>\n",
              "    <tr>\n",
              "      <th>3</th>\n",
              "      <td>Noise - Residential</td>\n",
              "      <td>Loud Music/Party</td>\n",
              "      <td>NYPD</td>\n",
              "    </tr>\n",
              "    <tr>\n",
              "      <th>4</th>\n",
              "      <td>Noise - Commercial</td>\n",
              "      <td>Loud Music/Party</td>\n",
              "      <td>NYPD</td>\n",
              "    </tr>\n",
              "    <tr>\n",
              "      <th>5</th>\n",
              "      <td>Noise - Street/Sidewalk</td>\n",
              "      <td>Loud Music/Party</td>\n",
              "      <td>NYPD</td>\n",
              "    </tr>\n",
              "    <tr>\n",
              "      <th>6</th>\n",
              "      <td>Blocked Driveway</td>\n",
              "      <td>Partial Access</td>\n",
              "      <td>NYPD</td>\n",
              "    </tr>\n",
              "    <tr>\n",
              "      <th>7</th>\n",
              "      <td>Noise - Commercial</td>\n",
              "      <td>Loud Music/Party</td>\n",
              "      <td>NYPD</td>\n",
              "    </tr>\n",
              "    <tr>\n",
              "      <th>8</th>\n",
              "      <td>Noise - Commercial</td>\n",
              "      <td>Loud Music/Party</td>\n",
              "      <td>NYPD</td>\n",
              "    </tr>\n",
              "    <tr>\n",
              "      <th>9</th>\n",
              "      <td>Noise - Street/Sidewalk</td>\n",
              "      <td>Loud Music/Party</td>\n",
              "      <td>NYPD</td>\n",
              "    </tr>\n",
              "  </tbody>\n",
              "</table>\n",
              "</div>"
            ],
            "text/plain": [
              "             ComplaintType                      Descriptor Agency\n",
              "0             Damaged Tree  Branch or Limb Has Fallen Down    DPR\n",
              "1        Broken Muni Meter                      No Receipt    DOT\n",
              "2      Noise - Residential                    Loud Talking   NYPD\n",
              "3      Noise - Residential                Loud Music/Party   NYPD\n",
              "4       Noise - Commercial                Loud Music/Party   NYPD\n",
              "5  Noise - Street/Sidewalk                Loud Music/Party   NYPD\n",
              "6         Blocked Driveway                  Partial Access   NYPD\n",
              "7       Noise - Commercial                Loud Music/Party   NYPD\n",
              "8       Noise - Commercial                Loud Music/Party   NYPD\n",
              "9  Noise - Street/Sidewalk                Loud Music/Party   NYPD"
            ]
          },
          "metadata": {
            "tags": []
          },
          "execution_count": 7
        }
      ]
    },
    {
      "cell_type": "code",
      "metadata": {
        "id": "CdXAOstEott-",
        "colab_type": "code",
        "outputId": "25d40b50-6f9b-4c65-ef76-e99d8e3d5660",
        "colab": {}
      },
      "source": [
        "df = pd.read_sql_query('SELECT ComplaintType, Descriptor, Agency '\n",
        "                       'FROM data '\n",
        "                       'WHERE Agency = \"NYPD\" '\n",
        "                       'LIMIT 10', disk_engine)\n",
        "df.head()"
      ],
      "execution_count": 0,
      "outputs": [
        {
          "output_type": "stream",
          "text": [
            "C:\\Program Files (x86)\\Microsoft Visual Studio\\Shared\\Anaconda3_64\\lib\\site-packages\\modin\\error_message.py:32: UserWarning:\n",
            "\n",
            "`read_sql_query` defaulting to pandas implementation.\n",
            "\n"
          ],
          "name": "stderr"
        },
        {
          "output_type": "execute_result",
          "data": {
            "text/html": [
              "<div>\n",
              "<style scoped>\n",
              "    .dataframe tbody tr th:only-of-type {\n",
              "        vertical-align: middle;\n",
              "    }\n",
              "\n",
              "    .dataframe tbody tr th {\n",
              "        vertical-align: top;\n",
              "    }\n",
              "\n",
              "    .dataframe thead th {\n",
              "        text-align: right;\n",
              "    }\n",
              "</style>\n",
              "<table border=\"1\" class=\"dataframe\">\n",
              "  <thead>\n",
              "    <tr style=\"text-align: right;\">\n",
              "      <th></th>\n",
              "      <th>ComplaintType</th>\n",
              "      <th>Descriptor</th>\n",
              "      <th>Agency</th>\n",
              "    </tr>\n",
              "  </thead>\n",
              "  <tbody>\n",
              "    <tr>\n",
              "      <th>0</th>\n",
              "      <td>Noise - Residential</td>\n",
              "      <td>Loud Talking</td>\n",
              "      <td>NYPD</td>\n",
              "    </tr>\n",
              "    <tr>\n",
              "      <th>1</th>\n",
              "      <td>Noise - Residential</td>\n",
              "      <td>Loud Music/Party</td>\n",
              "      <td>NYPD</td>\n",
              "    </tr>\n",
              "    <tr>\n",
              "      <th>2</th>\n",
              "      <td>Noise - Commercial</td>\n",
              "      <td>Loud Music/Party</td>\n",
              "      <td>NYPD</td>\n",
              "    </tr>\n",
              "    <tr>\n",
              "      <th>3</th>\n",
              "      <td>Noise - Street/Sidewalk</td>\n",
              "      <td>Loud Music/Party</td>\n",
              "      <td>NYPD</td>\n",
              "    </tr>\n",
              "    <tr>\n",
              "      <th>4</th>\n",
              "      <td>Blocked Driveway</td>\n",
              "      <td>Partial Access</td>\n",
              "      <td>NYPD</td>\n",
              "    </tr>\n",
              "  </tbody>\n",
              "</table>\n",
              "</div>"
            ],
            "text/plain": [
              "             ComplaintType        Descriptor Agency\n",
              "0      Noise - Residential      Loud Talking   NYPD\n",
              "1      Noise - Residential  Loud Music/Party   NYPD\n",
              "2       Noise - Commercial  Loud Music/Party   NYPD\n",
              "3  Noise - Street/Sidewalk  Loud Music/Party   NYPD\n",
              "4         Blocked Driveway    Partial Access   NYPD"
            ]
          },
          "metadata": {
            "tags": []
          },
          "execution_count": 8
        }
      ]
    },
    {
      "cell_type": "code",
      "metadata": {
        "id": "sQkfyknQotuA",
        "colab_type": "code",
        "outputId": "19502a92-9808-43b6-dcdd-7868bbec4352",
        "colab": {}
      },
      "source": [
        "df = pd.read_sql_query('SELECT ComplaintType, Descriptor, Agency '\n",
        "                       'FROM data '\n",
        "                       'WHERE Agency IN (\"NYPD\", \"DOB\")'\n",
        "                       'LIMIT 10', disk_engine)\n",
        "df.head()"
      ],
      "execution_count": 0,
      "outputs": [
        {
          "output_type": "stream",
          "text": [
            "C:\\Program Files (x86)\\Microsoft Visual Studio\\Shared\\Anaconda3_64\\lib\\site-packages\\modin\\error_message.py:32: UserWarning:\n",
            "\n",
            "`read_sql_query` defaulting to pandas implementation.\n",
            "\n"
          ],
          "name": "stderr"
        },
        {
          "output_type": "execute_result",
          "data": {
            "text/html": [
              "<div>\n",
              "<style scoped>\n",
              "    .dataframe tbody tr th:only-of-type {\n",
              "        vertical-align: middle;\n",
              "    }\n",
              "\n",
              "    .dataframe tbody tr th {\n",
              "        vertical-align: top;\n",
              "    }\n",
              "\n",
              "    .dataframe thead th {\n",
              "        text-align: right;\n",
              "    }\n",
              "</style>\n",
              "<table border=\"1\" class=\"dataframe\">\n",
              "  <thead>\n",
              "    <tr style=\"text-align: right;\">\n",
              "      <th></th>\n",
              "      <th>ComplaintType</th>\n",
              "      <th>Descriptor</th>\n",
              "      <th>Agency</th>\n",
              "    </tr>\n",
              "  </thead>\n",
              "  <tbody>\n",
              "    <tr>\n",
              "      <th>0</th>\n",
              "      <td>Noise - Residential</td>\n",
              "      <td>Loud Talking</td>\n",
              "      <td>NYPD</td>\n",
              "    </tr>\n",
              "    <tr>\n",
              "      <th>1</th>\n",
              "      <td>Noise - Residential</td>\n",
              "      <td>Loud Music/Party</td>\n",
              "      <td>NYPD</td>\n",
              "    </tr>\n",
              "    <tr>\n",
              "      <th>2</th>\n",
              "      <td>Noise - Commercial</td>\n",
              "      <td>Loud Music/Party</td>\n",
              "      <td>NYPD</td>\n",
              "    </tr>\n",
              "    <tr>\n",
              "      <th>3</th>\n",
              "      <td>Noise - Street/Sidewalk</td>\n",
              "      <td>Loud Music/Party</td>\n",
              "      <td>NYPD</td>\n",
              "    </tr>\n",
              "    <tr>\n",
              "      <th>4</th>\n",
              "      <td>Blocked Driveway</td>\n",
              "      <td>Partial Access</td>\n",
              "      <td>NYPD</td>\n",
              "    </tr>\n",
              "  </tbody>\n",
              "</table>\n",
              "</div>"
            ],
            "text/plain": [
              "             ComplaintType        Descriptor Agency\n",
              "0      Noise - Residential      Loud Talking   NYPD\n",
              "1      Noise - Residential  Loud Music/Party   NYPD\n",
              "2       Noise - Commercial  Loud Music/Party   NYPD\n",
              "3  Noise - Street/Sidewalk  Loud Music/Party   NYPD\n",
              "4         Blocked Driveway    Partial Access   NYPD"
            ]
          },
          "metadata": {
            "tags": []
          },
          "execution_count": 9
        }
      ]
    },
    {
      "cell_type": "markdown",
      "metadata": {
        "id": "2HZ5t9s1otuB",
        "colab_type": "text"
      },
      "source": [
        "### Plotting Starts Here"
      ]
    },
    {
      "cell_type": "code",
      "metadata": {
        "id": "6v52joGVotuC",
        "colab_type": "code",
        "outputId": "6f732021-2016-4d36-e84a-670589ee0c88",
        "colab": {}
      },
      "source": [
        "df = pd.read_sql_query('SELECT Agency, COUNT(*) as `num_complaints`'\n",
        "                       'FROM data '\n",
        "                       'GROUP BY Agency '\n",
        "                       'ORDER BY -num_complaints', disk_engine)\n",
        "\n",
        "py.iplot([Bar(x=df.Agency, y=df.num_complaints)], filename='Most common complaints by agency')"
      ],
      "execution_count": 0,
      "outputs": [
        {
          "output_type": "stream",
          "text": [
            "C:\\Program Files (x86)\\Microsoft Visual Studio\\Shared\\Anaconda3_64\\lib\\site-packages\\modin\\error_message.py:32: UserWarning:\n",
            "\n",
            "`read_sql_query` defaulting to pandas implementation.\n",
            "\n"
          ],
          "name": "stderr"
        },
        {
          "output_type": "execute_result",
          "data": {
            "text/html": [
              "<iframe id=\"igraph\" scrolling=\"no\" style=\"border:none;\" seamless=\"seamless\" src=\"https://plot.ly/~Alex23_shi/16.embed\" height=\"525px\" width=\"100%\"></iframe>"
            ],
            "text/plain": [
              "<chart_studio.tools.PlotlyDisplay object>"
            ]
          },
          "metadata": {
            "tags": []
          },
          "execution_count": 10
        }
      ]
    },
    {
      "cell_type": "code",
      "metadata": {
        "id": "fxlbcZs9otuD",
        "colab_type": "code",
        "outputId": "a3d8120b-6e67-4293-ce27-11f7fc41dba3",
        "colab": {}
      },
      "source": [
        "df = pd.read_sql_query('SELECT City, COUNT(*) as `num_complaints` '\n",
        "                        'FROM data '\n",
        "                        'GROUP BY `City` '\n",
        "                       'COLLATE NOCASE '\n",
        "                       'ORDER BY -num_complaints '\n",
        "                       'LIMIT 11 ', disk_engine)\n",
        "df"
      ],
      "execution_count": 0,
      "outputs": [
        {
          "output_type": "stream",
          "text": [
            "C:\\Program Files (x86)\\Microsoft Visual Studio\\Shared\\Anaconda3_64\\lib\\site-packages\\modin\\error_message.py:32: UserWarning:\n",
            "\n",
            "`read_sql_query` defaulting to pandas implementation.\n",
            "\n"
          ],
          "name": "stderr"
        },
        {
          "output_type": "execute_result",
          "data": {
            "text/html": [
              "<div>\n",
              "<style scoped>\n",
              "    .dataframe tbody tr th:only-of-type {\n",
              "        vertical-align: middle;\n",
              "    }\n",
              "\n",
              "    .dataframe tbody tr th {\n",
              "        vertical-align: top;\n",
              "    }\n",
              "\n",
              "    .dataframe thead th {\n",
              "        text-align: right;\n",
              "    }\n",
              "</style>\n",
              "<table border=\"1\" class=\"dataframe\">\n",
              "  <thead>\n",
              "    <tr style=\"text-align: right;\">\n",
              "      <th></th>\n",
              "      <th>City</th>\n",
              "      <th>num_complaints</th>\n",
              "    </tr>\n",
              "  </thead>\n",
              "  <tbody>\n",
              "    <tr>\n",
              "      <th>0</th>\n",
              "      <td>BROOKLYN</td>\n",
              "      <td>9807411</td>\n",
              "    </tr>\n",
              "    <tr>\n",
              "      <th>1</th>\n",
              "      <td>BRONX</td>\n",
              "      <td>6263540</td>\n",
              "    </tr>\n",
              "    <tr>\n",
              "      <th>2</th>\n",
              "      <td>NEW YORK</td>\n",
              "      <td>5826867</td>\n",
              "    </tr>\n",
              "    <tr>\n",
              "      <th>3</th>\n",
              "      <td>STATEN ISLAND</td>\n",
              "      <td>1307769</td>\n",
              "    </tr>\n",
              "    <tr>\n",
              "      <th>4</th>\n",
              "      <td>JAMAICA</td>\n",
              "      <td>710658</td>\n",
              "    </tr>\n",
              "    <tr>\n",
              "      <th>5</th>\n",
              "      <td>FLUSHING</td>\n",
              "      <td>515180</td>\n",
              "    </tr>\n",
              "    <tr>\n",
              "      <th>6</th>\n",
              "      <td>ASTORIA</td>\n",
              "      <td>483538</td>\n",
              "    </tr>\n",
              "    <tr>\n",
              "      <th>7</th>\n",
              "      <td>RIDGEWOOD</td>\n",
              "      <td>393535</td>\n",
              "    </tr>\n",
              "    <tr>\n",
              "      <th>8</th>\n",
              "      <td>CORONA</td>\n",
              "      <td>254197</td>\n",
              "    </tr>\n",
              "    <tr>\n",
              "      <th>9</th>\n",
              "      <td>WOODSIDE</td>\n",
              "      <td>229604</td>\n",
              "    </tr>\n",
              "    <tr>\n",
              "      <th>10</th>\n",
              "      <td>ELMHURST</td>\n",
              "      <td>228532</td>\n",
              "    </tr>\n",
              "  </tbody>\n",
              "</table>\n",
              "</div>"
            ],
            "text/plain": [
              "             City  num_complaints\n",
              "0        BROOKLYN         9807411\n",
              "1           BRONX         6263540\n",
              "2        NEW YORK         5826867\n",
              "3   STATEN ISLAND         1307769\n",
              "4         JAMAICA          710658\n",
              "5        FLUSHING          515180\n",
              "6         ASTORIA          483538\n",
              "7       RIDGEWOOD          393535\n",
              "8          CORONA          254197\n",
              "9        WOODSIDE          229604\n",
              "10       ELMHURST          228532"
            ]
          },
          "metadata": {
            "tags": []
          },
          "execution_count": 11
        }
      ]
    },
    {
      "cell_type": "code",
      "metadata": {
        "id": "oe9wC_tjotuF",
        "colab_type": "code",
        "colab": {}
      },
      "source": [
        "cities = list(df.City)\n",
        "#cities.remove(None)"
      ],
      "execution_count": 0,
      "outputs": []
    },
    {
      "cell_type": "code",
      "metadata": {
        "id": "fod4yTbhotuG",
        "colab_type": "code",
        "outputId": "17221033-e0ac-4358-bdbc-6f47fba85a4f",
        "colab": {}
      },
      "source": [
        "traces = [] # the series in the graph - one trace for each city\n",
        "\n",
        "for city in cities:\n",
        "    df = pd.read_sql_query('SELECT ComplaintType, COUNT(*) as `num_complaints` '\n",
        "                           'FROM data '\n",
        "                           'WHERE City = \"{}\" COLLATE NOCASE '\n",
        "                           'GROUP BY `ComplaintType` '\n",
        "                           'ORDER BY -num_complaints'.format(city), disk_engine)\n",
        "\n",
        "    traces.append(Bar(x=df['ComplaintType'], y=df.num_complaints, name=city.capitalize()))\n",
        "\n",
        "py.iplot({'data': traces, 'layout': Layout(barmode='stack', xaxis={'tickangle': 40}, margin={'b': 150})}, filename='complaints by city stacked')"
      ],
      "execution_count": 0,
      "outputs": [
        {
          "output_type": "stream",
          "text": [
            "C:\\Program Files (x86)\\Microsoft Visual Studio\\Shared\\Anaconda3_64\\lib\\site-packages\\modin\\error_message.py:32: UserWarning:\n",
            "\n",
            "`read_sql_query` defaulting to pandas implementation.\n",
            "\n"
          ],
          "name": "stderr"
        },
        {
          "output_type": "execute_result",
          "data": {
            "text/html": [
              "<iframe id=\"igraph\" scrolling=\"no\" style=\"border:none;\" seamless=\"seamless\" src=\"https://plot.ly/~Alex23_shi/1.embed\" height=\"525px\" width=\"100%\"></iframe>"
            ],
            "text/plain": [
              "<chart_studio.tools.PlotlyDisplay object>"
            ]
          },
          "metadata": {
            "tags": []
          },
          "execution_count": 13
        }
      ]
    },
    {
      "cell_type": "code",
      "metadata": {
        "scrolled": true,
        "id": "mwafcIeWotuI",
        "colab_type": "code",
        "colab": {}
      },
      "source": [
        "#py.iplot({'data': traces, 'layout': Layout(barmode='stack', xaxis={'tickangle': 40}, margin={'b': 150})}, title=\"Most complaints by city stacked\",filename='complaints by city stacked')"
      ],
      "execution_count": 0,
      "outputs": []
    },
    {
      "cell_type": "code",
      "metadata": {
        "id": "-JkkgEITotuJ",
        "colab_type": "code",
        "colab": {}
      },
      "source": [
        "for trace in traces:\n",
        "    trace['y'] = 100.*trace['y']/sum(trace['y'])"
      ],
      "execution_count": 0,
      "outputs": []
    },
    {
      "cell_type": "code",
      "metadata": {
        "id": "96PhCKvAotuL",
        "colab_type": "code",
        "outputId": "b1292070-c283-4f48-f084-97ba52c25d67",
        "colab": {}
      },
      "source": [
        "py.iplot({'data': traces, \n",
        "          'layout': Layout(\n",
        "                barmode='group',\n",
        "                xaxis={'tickangle': 40, 'autorange': False, 'range': [-0.5, 16]},\n",
        "                yaxis={'title': 'Percent of Complaints by City'},\n",
        "                margin={'b': 150},\n",
        "                title='Relative Number of 311 Complaints by City')\n",
        "         }, filename='relative complaints by city')"
      ],
      "execution_count": 0,
      "outputs": [
        {
          "output_type": "execute_result",
          "data": {
            "text/html": [
              "<iframe id=\"igraph\" scrolling=\"no\" style=\"border:none;\" seamless=\"seamless\" src=\"https://plot.ly/~Alex23_shi/3.embed\" height=\"525px\" width=\"100%\"></iframe>"
            ],
            "text/plain": [
              "<chart_studio.tools.PlotlyDisplay object>"
            ]
          },
          "metadata": {
            "tags": []
          },
          "execution_count": 16
        }
      ]
    },
    {
      "cell_type": "code",
      "metadata": {
        "id": "0lBehQZiotuM",
        "colab_type": "code",
        "outputId": "f0624230-8c21-42b0-ebf8-bb3ee2966b10",
        "colab": {}
      },
      "source": [
        "df = pd.read_sql_query('SELECT ComplaintType, CreatedDate, City '\n",
        "                       'FROM data '\n",
        "                       'WHERE CreatedDate < \"2014-11-16 23:47:00\" '\n",
        "                       'AND CreatedDate > \"2014-11-16 23:45:00\"', disk_engine)\n",
        "\n",
        "df"
      ],
      "execution_count": 0,
      "outputs": [
        {
          "output_type": "stream",
          "text": [
            "C:\\Program Files (x86)\\Microsoft Visual Studio\\Shared\\Anaconda3_64\\lib\\site-packages\\modin\\error_message.py:32: UserWarning:\n",
            "\n",
            "`read_sql_query` defaulting to pandas implementation.\n",
            "\n"
          ],
          "name": "stderr"
        },
        {
          "output_type": "execute_result",
          "data": {
            "text/html": [
              "<div>\n",
              "<style scoped>\n",
              "    .dataframe tbody tr th:only-of-type {\n",
              "        vertical-align: middle;\n",
              "    }\n",
              "\n",
              "    .dataframe tbody tr th {\n",
              "        vertical-align: top;\n",
              "    }\n",
              "\n",
              "    .dataframe thead th {\n",
              "        text-align: right;\n",
              "    }\n",
              "</style>\n",
              "<table border=\"1\" class=\"dataframe\">\n",
              "  <thead>\n",
              "    <tr style=\"text-align: right;\">\n",
              "      <th></th>\n",
              "      <th>ComplaintType</th>\n",
              "      <th>CreatedDate</th>\n",
              "      <th>City</th>\n",
              "    </tr>\n",
              "  </thead>\n",
              "  <tbody>\n",
              "    <tr>\n",
              "      <th>0</th>\n",
              "      <td>Noise - Commercial</td>\n",
              "      <td>2014-11-16 23:46:08.000000</td>\n",
              "      <td>ASTORIA</td>\n",
              "    </tr>\n",
              "    <tr>\n",
              "      <th>1</th>\n",
              "      <td>Noise - Street/Sidewalk</td>\n",
              "      <td>2014-11-16 23:45:10.000000</td>\n",
              "      <td>NEW YORK</td>\n",
              "    </tr>\n",
              "    <tr>\n",
              "      <th>2</th>\n",
              "      <td>Blocked Driveway</td>\n",
              "      <td>2014-11-16 23:45:43.000000</td>\n",
              "      <td>BROOKLYN</td>\n",
              "    </tr>\n",
              "    <tr>\n",
              "      <th>3</th>\n",
              "      <td>Derelict Vehicle</td>\n",
              "      <td>2014-11-16 23:46:57.000000</td>\n",
              "      <td>RIDGEWOOD</td>\n",
              "    </tr>\n",
              "    <tr>\n",
              "      <th>4</th>\n",
              "      <td>School Maintenance</td>\n",
              "      <td>2014-11-16 23:45:41.000000</td>\n",
              "      <td>BRONX</td>\n",
              "    </tr>\n",
              "    <tr>\n",
              "      <th>5</th>\n",
              "      <td>Derelict Vehicles</td>\n",
              "      <td>2014-11-16 23:46:00.000000</td>\n",
              "      <td>Jamaica</td>\n",
              "    </tr>\n",
              "    <tr>\n",
              "      <th>6</th>\n",
              "      <td>Noise - Commercial</td>\n",
              "      <td>2014-11-16 23:46:08.000000</td>\n",
              "      <td>ASTORIA</td>\n",
              "    </tr>\n",
              "    <tr>\n",
              "      <th>7</th>\n",
              "      <td>Noise - Street/Sidewalk</td>\n",
              "      <td>2014-11-16 23:45:10.000000</td>\n",
              "      <td>NEW YORK</td>\n",
              "    </tr>\n",
              "    <tr>\n",
              "      <th>8</th>\n",
              "      <td>Blocked Driveway</td>\n",
              "      <td>2014-11-16 23:45:43.000000</td>\n",
              "      <td>BROOKLYN</td>\n",
              "    </tr>\n",
              "    <tr>\n",
              "      <th>9</th>\n",
              "      <td>Derelict Vehicle</td>\n",
              "      <td>2014-11-16 23:46:57.000000</td>\n",
              "      <td>RIDGEWOOD</td>\n",
              "    </tr>\n",
              "    <tr>\n",
              "      <th>10</th>\n",
              "      <td>School Maintenance</td>\n",
              "      <td>2014-11-16 23:45:41.000000</td>\n",
              "      <td>BRONX</td>\n",
              "    </tr>\n",
              "    <tr>\n",
              "      <th>11</th>\n",
              "      <td>Derelict Vehicles</td>\n",
              "      <td>2014-11-16 23:46:00.000000</td>\n",
              "      <td>Jamaica</td>\n",
              "    </tr>\n",
              "  </tbody>\n",
              "</table>\n",
              "</div>"
            ],
            "text/plain": [
              "              ComplaintType                 CreatedDate       City\n",
              "0        Noise - Commercial  2014-11-16 23:46:08.000000    ASTORIA\n",
              "1   Noise - Street/Sidewalk  2014-11-16 23:45:10.000000   NEW YORK\n",
              "2          Blocked Driveway  2014-11-16 23:45:43.000000   BROOKLYN\n",
              "3          Derelict Vehicle  2014-11-16 23:46:57.000000  RIDGEWOOD\n",
              "4        School Maintenance  2014-11-16 23:45:41.000000      BRONX\n",
              "5         Derelict Vehicles  2014-11-16 23:46:00.000000    Jamaica\n",
              "6        Noise - Commercial  2014-11-16 23:46:08.000000    ASTORIA\n",
              "7   Noise - Street/Sidewalk  2014-11-16 23:45:10.000000   NEW YORK\n",
              "8          Blocked Driveway  2014-11-16 23:45:43.000000   BROOKLYN\n",
              "9          Derelict Vehicle  2014-11-16 23:46:57.000000  RIDGEWOOD\n",
              "10       School Maintenance  2014-11-16 23:45:41.000000      BRONX\n",
              "11        Derelict Vehicles  2014-11-16 23:46:00.000000    Jamaica"
            ]
          },
          "metadata": {
            "tags": []
          },
          "execution_count": 17
        }
      ]
    },
    {
      "cell_type": "code",
      "metadata": {
        "id": "L12nOlfEotuO",
        "colab_type": "code",
        "outputId": "3b8da687-9a58-4135-90d6-8714827c280c",
        "colab": {}
      },
      "source": [
        "df = pd.read_sql_query('SELECT CreatedDate, '\n",
        "                              'strftime(\\'%H\\', CreatedDate) as hour, '\n",
        "                              'ComplaintType '\n",
        "                       'FROM data '\n",
        "                       'LIMIT 5 ', disk_engine)\n",
        "df.head()"
      ],
      "execution_count": 0,
      "outputs": [
        {
          "output_type": "stream",
          "text": [
            "C:\\Program Files (x86)\\Microsoft Visual Studio\\Shared\\Anaconda3_64\\lib\\site-packages\\modin\\error_message.py:32: UserWarning:\n",
            "\n",
            "`read_sql_query` defaulting to pandas implementation.\n",
            "\n"
          ],
          "name": "stderr"
        },
        {
          "output_type": "execute_result",
          "data": {
            "text/html": [
              "<div>\n",
              "<style scoped>\n",
              "    .dataframe tbody tr th:only-of-type {\n",
              "        vertical-align: middle;\n",
              "    }\n",
              "\n",
              "    .dataframe tbody tr th {\n",
              "        vertical-align: top;\n",
              "    }\n",
              "\n",
              "    .dataframe thead th {\n",
              "        text-align: right;\n",
              "    }\n",
              "</style>\n",
              "<table border=\"1\" class=\"dataframe\">\n",
              "  <thead>\n",
              "    <tr style=\"text-align: right;\">\n",
              "      <th></th>\n",
              "      <th>CreatedDate</th>\n",
              "      <th>hour</th>\n",
              "      <th>ComplaintType</th>\n",
              "    </tr>\n",
              "  </thead>\n",
              "  <tbody>\n",
              "    <tr>\n",
              "      <th>0</th>\n",
              "      <td>2011-07-29 19:51:03.000000</td>\n",
              "      <td>19</td>\n",
              "      <td>Damaged Tree</td>\n",
              "    </tr>\n",
              "    <tr>\n",
              "      <th>1</th>\n",
              "      <td>2011-07-29 20:34:33.000000</td>\n",
              "      <td>20</td>\n",
              "      <td>Broken Muni Meter</td>\n",
              "    </tr>\n",
              "    <tr>\n",
              "      <th>2</th>\n",
              "      <td>2011-07-29 22:20:18.000000</td>\n",
              "      <td>22</td>\n",
              "      <td>Noise - Residential</td>\n",
              "    </tr>\n",
              "    <tr>\n",
              "      <th>3</th>\n",
              "      <td>2011-07-29 22:35:13.000000</td>\n",
              "      <td>22</td>\n",
              "      <td>Noise - Residential</td>\n",
              "    </tr>\n",
              "    <tr>\n",
              "      <th>4</th>\n",
              "      <td>2011-07-29 23:46:33.000000</td>\n",
              "      <td>23</td>\n",
              "      <td>Noise - Commercial</td>\n",
              "    </tr>\n",
              "  </tbody>\n",
              "</table>\n",
              "</div>"
            ],
            "text/plain": [
              "                  CreatedDate hour        ComplaintType\n",
              "0  2011-07-29 19:51:03.000000   19         Damaged Tree\n",
              "1  2011-07-29 20:34:33.000000   20    Broken Muni Meter\n",
              "2  2011-07-29 22:20:18.000000   22  Noise - Residential\n",
              "3  2011-07-29 22:35:13.000000   22  Noise - Residential\n",
              "4  2011-07-29 23:46:33.000000   23   Noise - Commercial"
            ]
          },
          "metadata": {
            "tags": []
          },
          "execution_count": 18
        }
      ]
    },
    {
      "cell_type": "code",
      "metadata": {
        "id": "AXDbJ97FotuP",
        "colab_type": "code",
        "outputId": "26d5255d-332b-4930-975e-c3c4821d7d1b",
        "colab": {}
      },
      "source": [
        "df = pd.read_sql_query('SELECT CreatedDate, '\n",
        "                               'strftime(\\'%H\\', CreatedDate) as hour,  '\n",
        "                               'count(*) as `Complaints per Hour`'\n",
        "                       'FROM data '\n",
        "                       'GROUP BY hour', disk_engine)\n",
        "\n",
        "df.head()"
      ],
      "execution_count": 0,
      "outputs": [
        {
          "output_type": "stream",
          "text": [
            "C:\\Program Files (x86)\\Microsoft Visual Studio\\Shared\\Anaconda3_64\\lib\\site-packages\\modin\\error_message.py:32: UserWarning:\n",
            "\n",
            "`read_sql_query` defaulting to pandas implementation.\n",
            "\n"
          ],
          "name": "stderr"
        },
        {
          "output_type": "execute_result",
          "data": {
            "text/html": [
              "<div>\n",
              "<style scoped>\n",
              "    .dataframe tbody tr th:only-of-type {\n",
              "        vertical-align: middle;\n",
              "    }\n",
              "\n",
              "    .dataframe tbody tr th {\n",
              "        vertical-align: top;\n",
              "    }\n",
              "\n",
              "    .dataframe thead th {\n",
              "        text-align: right;\n",
              "    }\n",
              "</style>\n",
              "<table border=\"1\" class=\"dataframe\">\n",
              "  <thead>\n",
              "    <tr style=\"text-align: right;\">\n",
              "      <th></th>\n",
              "      <th>CreatedDate</th>\n",
              "      <th>hour</th>\n",
              "      <th>Complaints per Hour</th>\n",
              "    </tr>\n",
              "  </thead>\n",
              "  <tbody>\n",
              "    <tr>\n",
              "      <th>0</th>\n",
              "      <td>2011-07-30 00:59:25.000000</td>\n",
              "      <td>00</td>\n",
              "      <td>7891823</td>\n",
              "    </tr>\n",
              "    <tr>\n",
              "      <th>1</th>\n",
              "      <td>2011-07-30 01:46:51.000000</td>\n",
              "      <td>01</td>\n",
              "      <td>641433</td>\n",
              "    </tr>\n",
              "    <tr>\n",
              "      <th>2</th>\n",
              "      <td>2011-07-30 02:18:32.000000</td>\n",
              "      <td>02</td>\n",
              "      <td>414661</td>\n",
              "    </tr>\n",
              "    <tr>\n",
              "      <th>3</th>\n",
              "      <td>2011-07-29 03:26:51.000000</td>\n",
              "      <td>03</td>\n",
              "      <td>279211</td>\n",
              "    </tr>\n",
              "    <tr>\n",
              "      <th>4</th>\n",
              "      <td>2011-07-29 04:18:58.000000</td>\n",
              "      <td>04</td>\n",
              "      <td>225495</td>\n",
              "    </tr>\n",
              "  </tbody>\n",
              "</table>\n",
              "</div>"
            ],
            "text/plain": [
              "                  CreatedDate hour  Complaints per Hour\n",
              "0  2011-07-30 00:59:25.000000   00              7891823\n",
              "1  2011-07-30 01:46:51.000000   01               641433\n",
              "2  2011-07-30 02:18:32.000000   02               414661\n",
              "3  2011-07-29 03:26:51.000000   03               279211\n",
              "4  2011-07-29 04:18:58.000000   04               225495"
            ]
          },
          "metadata": {
            "tags": []
          },
          "execution_count": 19
        }
      ]
    },
    {
      "cell_type": "code",
      "metadata": {
        "id": "blxfwEy6otuS",
        "colab_type": "code",
        "outputId": "b46f8a52-8aed-4388-db7e-062ed8938cf6",
        "colab": {}
      },
      "source": [
        "py.iplot({\n",
        "    'data': [Bar(x=df['hour'], y=df['Complaints per Hour'])],\n",
        "    'layout': Layout(xaxis={'title': 'Hour in Day'},\n",
        "                     yaxis={'title': 'Number of Complaints'})}, filename='complaints per hour')"
      ],
      "execution_count": 0,
      "outputs": [
        {
          "output_type": "execute_result",
          "data": {
            "text/html": [
              "<iframe id=\"igraph\" scrolling=\"no\" style=\"border:none;\" seamless=\"seamless\" src=\"https://plot.ly/~Alex23_shi/5.embed\" height=\"525px\" width=\"100%\"></iframe>"
            ],
            "text/plain": [
              "<chart_studio.tools.PlotlyDisplay object>"
            ]
          },
          "metadata": {
            "tags": []
          },
          "execution_count": 20
        }
      ]
    },
    {
      "cell_type": "code",
      "metadata": {
        "id": "FqKjrnWlotuU",
        "colab_type": "code",
        "outputId": "4a2af022-def5-4f57-bd6c-70f8e915fae5",
        "colab": {}
      },
      "source": [
        "df = pd.read_sql_query('SELECT CreatedDate, '\n",
        "                               'strftime(\\'%H\\', CreatedDate) as `hour`,  '\n",
        "                               'count(*) as `Complaints per Hour`'\n",
        "                       'FROM data '\n",
        "                       'WHERE ComplaintType IN (\"Noise\", '\n",
        "                                               '\"Noise - Street/Sidewalk\", '\n",
        "                                               '\"Noise - Commercial\", '\n",
        "                                               '\"Noise - Vehicle\", '\n",
        "                                               '\"Noise - Park\", '\n",
        "                                               '\"Noise - House of Worship\", '\n",
        "                                               '\"Noise - Helicopter\", '\n",
        "                                               '\"Collection Truck Noise\") '\n",
        "                       'GROUP BY hour', disk_engine)\n",
        "\n",
        "display(df.head(n=2))\n",
        "\n",
        "py.iplot({\n",
        "    'data': [Bar(x=df['hour'], y=df['Complaints per Hour'])],\n",
        "    'layout': Layout(xaxis={'title': 'Hour in Day'},\n",
        "                     yaxis={'title': 'Number of Complaints'},\n",
        "                     title='Number of Noise Complaints in NYC by Hour in Day'\n",
        "                    )}, filename='noise complaints per hour')"
      ],
      "execution_count": 0,
      "outputs": [
        {
          "output_type": "stream",
          "text": [
            "C:\\Program Files (x86)\\Microsoft Visual Studio\\Shared\\Anaconda3_64\\lib\\site-packages\\modin\\error_message.py:32: UserWarning:\n",
            "\n",
            "`read_sql_query` defaulting to pandas implementation.\n",
            "\n"
          ],
          "name": "stderr"
        },
        {
          "output_type": "display_data",
          "data": {
            "text/html": [
              "<div>\n",
              "<style scoped>\n",
              "    .dataframe tbody tr th:only-of-type {\n",
              "        vertical-align: middle;\n",
              "    }\n",
              "\n",
              "    .dataframe tbody tr th {\n",
              "        vertical-align: top;\n",
              "    }\n",
              "\n",
              "    .dataframe thead th {\n",
              "        text-align: right;\n",
              "    }\n",
              "</style>\n",
              "<table border=\"1\" class=\"dataframe\">\n",
              "  <thead>\n",
              "    <tr style=\"text-align: right;\">\n",
              "      <th></th>\n",
              "      <th>CreatedDate</th>\n",
              "      <th>hour</th>\n",
              "      <th>Complaints per Hour</th>\n",
              "    </tr>\n",
              "  </thead>\n",
              "  <tbody>\n",
              "    <tr>\n",
              "      <th>0</th>\n",
              "      <td>2011-07-30 00:59:25.000000</td>\n",
              "      <td>00</td>\n",
              "      <td>230224</td>\n",
              "    </tr>\n",
              "    <tr>\n",
              "      <th>1</th>\n",
              "      <td>2011-07-30 01:25:58.000000</td>\n",
              "      <td>01</td>\n",
              "      <td>169156</td>\n",
              "    </tr>\n",
              "  </tbody>\n",
              "</table>\n",
              "</div>"
            ],
            "text/plain": [
              "                  CreatedDate hour  Complaints per Hour\n",
              "0  2011-07-30 00:59:25.000000   00               230224\n",
              "1  2011-07-30 01:25:58.000000   01               169156"
            ]
          },
          "metadata": {
            "tags": []
          }
        },
        {
          "output_type": "execute_result",
          "data": {
            "text/html": [
              "<iframe id=\"igraph\" scrolling=\"no\" style=\"border:none;\" seamless=\"seamless\" src=\"https://plot.ly/~Alex23_shi/7.embed\" height=\"525px\" width=\"100%\"></iframe>"
            ],
            "text/plain": [
              "<chart_studio.tools.PlotlyDisplay object>"
            ]
          },
          "metadata": {
            "tags": []
          },
          "execution_count": 21
        }
      ]
    },
    {
      "cell_type": "code",
      "metadata": {
        "id": "hmDGj4QmotuW",
        "colab_type": "code",
        "outputId": "824c47df-32da-490e-94e1-5ae9180d80bb",
        "colab": {}
      },
      "source": [
        "complaint_traces = {} # Each series in the graph will represent a complaint\n",
        "complaint_traces['Other'] = {}\n",
        "\n",
        "for hour in range(1, 24):\n",
        "    hour_str = '0'+str(hour) if hour < 10 else str(hour)\n",
        "    df = pd.read_sql_query('SELECT  CreatedDate, '\n",
        "                                   'ComplaintType ,'\n",
        "                                   'strftime(\\'%H\\', CreatedDate) as `hour`,  '\n",
        "                                   'COUNT(*) as num_complaints '\n",
        "                           'FROM data '\n",
        "                           'WHERE hour = \"{}\" '\n",
        "                           'GROUP BY ComplaintType '\n",
        "                           'ORDER BY -num_complaints'.format(hour_str), disk_engine)\n",
        "    \n",
        "    complaint_traces['Other'][hour] = sum(df.num_complaints)\n",
        "    \n",
        "    # Grab the 7 most common complaints for that hour\n",
        "    for i in range(7):\n",
        "        complaint = df.get_value(i, 'ComplaintType')\n",
        "        count = df.get_value(i, 'num_complaints')\n",
        "        complaint_traces['Other'][hour] -= count\n",
        "        if complaint in complaint_traces:\n",
        "            complaint_traces[complaint][hour] = count\n",
        "        else:\n",
        "            complaint_traces[complaint] = {hour: count}"
      ],
      "execution_count": 0,
      "outputs": [
        {
          "output_type": "stream",
          "text": [
            "C:\\Program Files (x86)\\Microsoft Visual Studio\\Shared\\Anaconda3_64\\lib\\site-packages\\modin\\error_message.py:32: UserWarning:\n",
            "\n",
            "`read_sql_query` defaulting to pandas implementation.\n",
            "\n",
            "C:\\Program Files (x86)\\Microsoft Visual Studio\\Shared\\Anaconda3_64\\lib\\site-packages\\modin\\error_message.py:32: UserWarning:\n",
            "\n",
            "`DataFrame.get_value` defaulting to pandas implementation.\n",
            "\n",
            "C:\\Program Files (x86)\\Microsoft Visual Studio\\Shared\\Anaconda3_64\\lib\\site-packages\\modin\\pandas\\base.py:218: FutureWarning:\n",
            "\n",
            "get_value is deprecated and will be removed in a future release. Please use .at[] or .iat[] accessors instead\n",
            "\n"
          ],
          "name": "stderr"
        }
      ]
    },
    {
      "cell_type": "code",
      "metadata": {
        "scrolled": false,
        "id": "5OfOGPbzotuX",
        "colab_type": "code",
        "outputId": "3ede8ec9-44a4-45b6-c92d-79ec0fd46ac7",
        "colab": {}
      },
      "source": [
        "traces = []\n",
        "x_a = [0,1,2,3,4,5,6,7,8,9,10,11,12,13,14,15,16,17,18,19,20,21,22,23,24]\n",
        "for complaint in complaint_traces:\n",
        "    traces.append({\n",
        "        'x': x_a,\n",
        "        'y': [complaint_traces[complaint].get(i, None) for i in range(25)],\n",
        "        'name': complaint,\n",
        "        'type': 'bar'\n",
        "    })\n",
        "\n",
        "py.iplot({\n",
        "    'data': traces, \n",
        "    'layout': {\n",
        "        'barmode': 'stack',\n",
        "        'xaxis': {'title': 'Hour in Day'},\n",
        "        'yaxis': {'title': 'Number of Complaints'},\n",
        "        'title': 'The 7 Most Common 311 Complaints by Hour in a Day'\n",
        "    }}, filename='most common complaints by hour')"
      ],
      "execution_count": 0,
      "outputs": [
        {
          "output_type": "execute_result",
          "data": {
            "text/html": [
              "<iframe id=\"igraph\" scrolling=\"no\" style=\"border:none;\" seamless=\"seamless\" src=\"https://plot.ly/~Alex23_shi/9.embed\" height=\"525px\" width=\"100%\"></iframe>"
            ],
            "text/plain": [
              "<chart_studio.tools.PlotlyDisplay object>"
            ]
          },
          "metadata": {
            "tags": []
          },
          "execution_count": 23
        }
      ]
    },
    {
      "cell_type": "code",
      "metadata": {
        "id": "44ZV7ajMotuZ",
        "colab_type": "code",
        "outputId": "7e797319-ed34-487d-96bc-ad7fbb16b1c5",
        "colab": {}
      },
      "source": [
        "minutes = 15\n",
        "seconds = 15*60\n",
        "\n",
        "df = pd.read_sql_query('SELECT CreatedDate, '\n",
        "                               'datetime(('\n",
        "                                   'strftime(\\'%s\\', CreatedDate) / {seconds}) * {seconds}, \\'unixepoch\\') interval '\n",
        "                       'FROM data '\n",
        "                       'LIMIT 10 '.format(seconds=seconds), disk_engine)\n",
        "\n",
        "display(df.head())"
      ],
      "execution_count": 0,
      "outputs": [
        {
          "output_type": "stream",
          "text": [
            "C:\\Program Files (x86)\\Microsoft Visual Studio\\Shared\\Anaconda3_64\\lib\\site-packages\\modin\\error_message.py:32: UserWarning:\n",
            "\n",
            "`read_sql_query` defaulting to pandas implementation.\n",
            "\n"
          ],
          "name": "stderr"
        },
        {
          "output_type": "display_data",
          "data": {
            "text/html": [
              "<div>\n",
              "<style scoped>\n",
              "    .dataframe tbody tr th:only-of-type {\n",
              "        vertical-align: middle;\n",
              "    }\n",
              "\n",
              "    .dataframe tbody tr th {\n",
              "        vertical-align: top;\n",
              "    }\n",
              "\n",
              "    .dataframe thead th {\n",
              "        text-align: right;\n",
              "    }\n",
              "</style>\n",
              "<table border=\"1\" class=\"dataframe\">\n",
              "  <thead>\n",
              "    <tr style=\"text-align: right;\">\n",
              "      <th></th>\n",
              "      <th>CreatedDate</th>\n",
              "      <th>interval</th>\n",
              "    </tr>\n",
              "  </thead>\n",
              "  <tbody>\n",
              "    <tr>\n",
              "      <th>0</th>\n",
              "      <td>2011-07-29 19:51:03.000000</td>\n",
              "      <td>2011-07-29 19:45:00</td>\n",
              "    </tr>\n",
              "    <tr>\n",
              "      <th>1</th>\n",
              "      <td>2011-07-29 20:34:33.000000</td>\n",
              "      <td>2011-07-29 20:30:00</td>\n",
              "    </tr>\n",
              "    <tr>\n",
              "      <th>2</th>\n",
              "      <td>2011-07-29 22:20:18.000000</td>\n",
              "      <td>2011-07-29 22:15:00</td>\n",
              "    </tr>\n",
              "    <tr>\n",
              "      <th>3</th>\n",
              "      <td>2011-07-29 22:35:13.000000</td>\n",
              "      <td>2011-07-29 22:30:00</td>\n",
              "    </tr>\n",
              "    <tr>\n",
              "      <th>4</th>\n",
              "      <td>2011-07-29 23:46:33.000000</td>\n",
              "      <td>2011-07-29 23:45:00</td>\n",
              "    </tr>\n",
              "  </tbody>\n",
              "</table>\n",
              "</div>"
            ],
            "text/plain": [
              "                  CreatedDate             interval\n",
              "0  2011-07-29 19:51:03.000000  2011-07-29 19:45:00\n",
              "1  2011-07-29 20:34:33.000000  2011-07-29 20:30:00\n",
              "2  2011-07-29 22:20:18.000000  2011-07-29 22:15:00\n",
              "3  2011-07-29 22:35:13.000000  2011-07-29 22:30:00\n",
              "4  2011-07-29 23:46:33.000000  2011-07-29 23:45:00"
            ]
          },
          "metadata": {
            "tags": []
          }
        }
      ]
    },
    {
      "cell_type": "code",
      "metadata": {
        "id": "_zkf4oAUotua",
        "colab_type": "code",
        "outputId": "ede7be15-e974-4b62-c110-f4a15b416c90",
        "colab": {}
      },
      "source": [
        "minutes = 15\n",
        "seconds = minutes*60\n",
        "\n",
        "df = pd.read_sql_query('SELECT datetime(('\n",
        "                                   'strftime(\\'%s\\', CreatedDate) / {seconds}) * {seconds}, \\'unixepoch\\') interval ,'\n",
        "                               'COUNT(*) as \"Complaints / interval\"'\n",
        "                       'FROM data '\n",
        "                       'GROUP BY interval '\n",
        "                       'ORDER BY interval '\n",
        "                       'LIMIT 500'.format(seconds=seconds), disk_engine)\n",
        "\n",
        "display(df.head())\n",
        "display(df.tail())"
      ],
      "execution_count": 0,
      "outputs": [
        {
          "output_type": "stream",
          "text": [
            "C:\\Program Files (x86)\\Microsoft Visual Studio\\Shared\\Anaconda3_64\\lib\\site-packages\\modin\\error_message.py:32: UserWarning:\n",
            "\n",
            "`read_sql_query` defaulting to pandas implementation.\n",
            "\n"
          ],
          "name": "stderr"
        },
        {
          "output_type": "display_data",
          "data": {
            "text/html": [
              "<div>\n",
              "<style scoped>\n",
              "    .dataframe tbody tr th:only-of-type {\n",
              "        vertical-align: middle;\n",
              "    }\n",
              "\n",
              "    .dataframe tbody tr th {\n",
              "        vertical-align: top;\n",
              "    }\n",
              "\n",
              "    .dataframe thead th {\n",
              "        text-align: right;\n",
              "    }\n",
              "</style>\n",
              "<table border=\"1\" class=\"dataframe\">\n",
              "  <thead>\n",
              "    <tr style=\"text-align: right;\">\n",
              "      <th></th>\n",
              "      <th>interval</th>\n",
              "      <th>Complaints / interval</th>\n",
              "    </tr>\n",
              "  </thead>\n",
              "  <tbody>\n",
              "    <tr>\n",
              "      <th>0</th>\n",
              "      <td>2010-01-01 00:00:00</td>\n",
              "      <td>2558</td>\n",
              "    </tr>\n",
              "    <tr>\n",
              "      <th>1</th>\n",
              "      <td>2010-01-01 00:15:00</td>\n",
              "      <td>28</td>\n",
              "    </tr>\n",
              "    <tr>\n",
              "      <th>2</th>\n",
              "      <td>2010-01-01 00:30:00</td>\n",
              "      <td>24</td>\n",
              "    </tr>\n",
              "    <tr>\n",
              "      <th>3</th>\n",
              "      <td>2010-01-01 00:45:00</td>\n",
              "      <td>42</td>\n",
              "    </tr>\n",
              "    <tr>\n",
              "      <th>4</th>\n",
              "      <td>2010-01-01 01:00:00</td>\n",
              "      <td>52</td>\n",
              "    </tr>\n",
              "  </tbody>\n",
              "</table>\n",
              "</div>"
            ],
            "text/plain": [
              "              interval  Complaints / interval\n",
              "0  2010-01-01 00:00:00                   2558\n",
              "1  2010-01-01 00:15:00                     28\n",
              "2  2010-01-01 00:30:00                     24\n",
              "3  2010-01-01 00:45:00                     42\n",
              "4  2010-01-01 01:00:00                     52"
            ]
          },
          "metadata": {
            "tags": []
          }
        },
        {
          "output_type": "display_data",
          "data": {
            "text/html": [
              "<div>\n",
              "<style scoped>\n",
              "    .dataframe tbody tr th:only-of-type {\n",
              "        vertical-align: middle;\n",
              "    }\n",
              "\n",
              "    .dataframe tbody tr th {\n",
              "        vertical-align: top;\n",
              "    }\n",
              "\n",
              "    .dataframe thead th {\n",
              "        text-align: right;\n",
              "    }\n",
              "</style>\n",
              "<table border=\"1\" class=\"dataframe\">\n",
              "  <thead>\n",
              "    <tr style=\"text-align: right;\">\n",
              "      <th></th>\n",
              "      <th>interval</th>\n",
              "      <th>Complaints / interval</th>\n",
              "    </tr>\n",
              "  </thead>\n",
              "  <tbody>\n",
              "    <tr>\n",
              "      <th>495</th>\n",
              "      <td>2010-01-06 05:00:00</td>\n",
              "      <td>6</td>\n",
              "    </tr>\n",
              "    <tr>\n",
              "      <th>496</th>\n",
              "      <td>2010-01-06 05:15:00</td>\n",
              "      <td>2</td>\n",
              "    </tr>\n",
              "    <tr>\n",
              "      <th>497</th>\n",
              "      <td>2010-01-06 05:30:00</td>\n",
              "      <td>16</td>\n",
              "    </tr>\n",
              "    <tr>\n",
              "      <th>498</th>\n",
              "      <td>2010-01-06 05:45:00</td>\n",
              "      <td>6</td>\n",
              "    </tr>\n",
              "    <tr>\n",
              "      <th>499</th>\n",
              "      <td>2010-01-06 06:00:00</td>\n",
              "      <td>6</td>\n",
              "    </tr>\n",
              "  </tbody>\n",
              "</table>\n",
              "</div>"
            ],
            "text/plain": [
              "                interval  Complaints / interval\n",
              "495  2010-01-06 05:00:00                      6\n",
              "496  2010-01-06 05:15:00                      2\n",
              "497  2010-01-06 05:30:00                     16\n",
              "498  2010-01-06 05:45:00                      6\n",
              "499  2010-01-06 06:00:00                      6"
            ]
          },
          "metadata": {
            "tags": []
          }
        }
      ]
    },
    {
      "cell_type": "code",
      "metadata": {
        "id": "ysAWLNS3otub",
        "colab_type": "code",
        "outputId": "641e4a06-ca31-4a0b-b7a9-ee9c9df6bfdb",
        "colab": {}
      },
      "source": [
        "py.iplot(\n",
        "    {\n",
        "        'data': [{\n",
        "            'x': df.interval,\n",
        "            'y': df['Complaints / interval'],\n",
        "            'type': 'bar'\n",
        "        }],\n",
        "        'layout': {\n",
        "            'title': 'Number of 311 Complaints per 15 Minutes'\n",
        "        }\n",
        "}, filename='complaints per 15 minutes')"
      ],
      "execution_count": 0,
      "outputs": [
        {
          "output_type": "execute_result",
          "data": {
            "text/html": [
              "<iframe id=\"igraph\" scrolling=\"no\" style=\"border:none;\" seamless=\"seamless\" src=\"https://plot.ly/~Alex23_shi/11.embed\" height=\"525px\" width=\"100%\"></iframe>"
            ],
            "text/plain": [
              "<chart_studio.tools.PlotlyDisplay object>"
            ]
          },
          "metadata": {
            "tags": []
          },
          "execution_count": 26
        }
      ]
    },
    {
      "cell_type": "code",
      "metadata": {
        "id": "DhA8PnmBotud",
        "colab_type": "code",
        "outputId": "8fd9786a-d18b-4f9d-bd76-885f2e9f339d",
        "colab": {}
      },
      "source": [
        "hours = 24\n",
        "minutes = hours*60\n",
        "seconds = minutes*60\n",
        "\n",
        "df = pd.read_sql_query('SELECT datetime(('\n",
        "                                   'strftime(\\'%s\\', CreatedDate) / {seconds}) * {seconds}, \\'unixepoch\\') interval ,'\n",
        "                               'COUNT(*) as \"Complaints / interval\"'\n",
        "                       'FROM data '\n",
        "                       'GROUP BY interval '\n",
        "                       'ORDER BY interval'.format(seconds=seconds), disk_engine)"
      ],
      "execution_count": 0,
      "outputs": [
        {
          "output_type": "stream",
          "text": [
            "C:\\Program Files (x86)\\Microsoft Visual Studio\\Shared\\Anaconda3_64\\lib\\site-packages\\modin\\error_message.py:32: UserWarning:\n",
            "\n",
            "`read_sql_query` defaulting to pandas implementation.\n",
            "\n"
          ],
          "name": "stderr"
        }
      ]
    },
    {
      "cell_type": "code",
      "metadata": {
        "id": "BJwU4qrIotue",
        "colab_type": "code",
        "outputId": "ce83c012-0c82-49f9-c810-ae0cdbe5cf55",
        "colab": {}
      },
      "source": [
        "py.iplot(\n",
        "    {\n",
        "        'data': [{\n",
        "            'x': df.interval,\n",
        "            'y': df['Complaints / interval'],\n",
        "            'type': 'bar'\n",
        "        }],\n",
        "        'layout': {\n",
        "            'title': 'Number of 311 Complaints per Day'\n",
        "        }\n",
        "}, filename='complaints per day')"
      ],
      "execution_count": 0,
      "outputs": [
        {
          "output_type": "execute_result",
          "data": {
            "text/html": [
              "<iframe id=\"igraph\" scrolling=\"no\" style=\"border:none;\" seamless=\"seamless\" src=\"https://plot.ly/~Alex23_shi/14.embed\" height=\"525px\" width=\"100%\"></iframe>"
            ],
            "text/plain": [
              "<chart_studio.tools.PlotlyDisplay object>"
            ]
          },
          "metadata": {
            "tags": []
          },
          "execution_count": 28
        }
      ]
    },
    {
      "cell_type": "code",
      "metadata": {
        "id": "tYM831uZotuf",
        "colab_type": "code",
        "colab": {}
      },
      "source": [
        ""
      ],
      "execution_count": 0,
      "outputs": []
    }
  ]
}